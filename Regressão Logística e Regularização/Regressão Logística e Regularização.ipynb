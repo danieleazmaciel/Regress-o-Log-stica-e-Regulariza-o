{
 "cells": [
  {
   "cell_type": "markdown",
   "metadata": {},
   "source": [
    "# Tarefa 02: Regressão Logística e Regularização\n",
    "\n",
    "## Introdução\n",
    "\n",
    "<b>Disciplina: </b> Tópicos especiais de Física.\n",
    "\n",
    "<b>Professor: </b> Saulo D. S. Reis (Departamento de Física -- UFC).\n",
    "\n",
    "Neste exercício, você irá implementar uma regressão logística sem regularização, além de sua versão com regularização.\n",
    "\n",
    "Toda a informação que você precisa para resolver essa tarefa está contida neste notebook, e todo o código que você irá implementar será escrito também neste notebook.\n",
    "\n",
    "Estas tarefas foram adaptadas das tarefas originais presentes no excelente curso introdutório de Machine Learning do Prof. Andrew Ng, presente no Coursera que podem ser encontrados nesse [link](https://www.coursera.org/learn/machine-learning)."
   ]
  },
  {
   "cell_type": "code",
   "execution_count": 1,
   "metadata": {},
   "outputs": [],
   "source": [
    "#!pip install matplotlib\n",
    "#!pip install scipy"
   ]
  },
  {
   "cell_type": "code",
   "execution_count": 2,
   "metadata": {},
   "outputs": [],
   "source": [
    "# Usado para manipular os diretórios do sistema operacioal\n",
    "import os\n",
    "\n",
    "# Usada para operações numéricas e com vetores em python\n",
    "import numpy as np\n",
    "\n",
    "# Usada para plots\n",
    "from matplotlib import pyplot\n",
    "\n",
    "# Módulo de otimização do scipy\n",
    "from scipy import optimize\n",
    "\n",
    "# Biblioteca escrita para esta tarefa com funções adicionais\n",
    "import utils\n",
    "\n",
    "# plote as figuras dentro deste jupyter notebook\n",
    "%matplotlib inline"
   ]
  },
  {
   "cell_type": "markdown",
   "metadata": {},
   "source": [
    "## Avaliação\n",
    "\n",
    "\n",
    "Após completar essa tarefa, se certifique de submetê-la pelo sigga dentro do prazo.\n",
    "\n",
    "A distribuição de pontos será feita de acordo com a tabela abaixo:\n",
    "\n",
    "**Tarefas**\n",
    "\n",
    "\n",
    "\n",
    "| Seção | Parte                                           |Função                     | Pontos \n",
    "| :-      |:-                                    | :-                    | :-:\n",
    "| 1       | [Função sigmóide](#section1)                   | [`sigmoid`](#sigmoid) | 5      \n",
    "| 2       | [Função custo da regressão logística](#section2) | [`costFunction`](#costFunction) | 30     \n",
    "| 3       | [Gradiente para a regressão logística](#section2)     | [`costFunction`](#costFunction) | 30     \n",
    "| 4       | [Função para previsão](#section4)                     | [`predict`](#predict) | 5      \n",
    "| 5       | [Função custo regularizada da RL](#section5)      | [`costFunctionReg`](#costFunctionReg) | 15     \n",
    "| 6       | [Gradiente regularizado da RL](#section5)          | [`costFunctionReg`](#costFunctionReg) | 15     \n",
    "|     $~$ | Total de pontos                         |$~$  | 100    "
   ]
  },
  {
   "cell_type": "markdown",
   "metadata": {},
   "source": [
    "## 1 Regressão logística\n",
    "\n",
    "Nesta parte da tarefa, você irá construir um modelo de regressão logística para prever se um estudante é ou não aprovado no processo seletivo de um curso de pós-graduação. Suponha que você queira determinar a chance de cada estudante baseado no resultado do mesmo em dois exames. Você possui o dado histórico de estudantes de processos seletivos anteriores que você pode utilizar como conjunto de treino para sua regressão logística. Para cada amostra de treino você possui o resultado de cada estudante nos dois exames e o resultado de sua seleção. \n",
    "\n",
    "Sua tarefa é construir um modelo de classificação que estime a probabilidade do estudante ser selecionado para o programa de pós-graduação baseado nos seus resultados em dois exames.\n",
    "\n",
    "A próxima célula irá carregar o conjunto de dados e seus rótulos correspondentes:"
   ]
  },
  {
   "cell_type": "code",
   "execution_count": 3,
   "metadata": {},
   "outputs": [],
   "source": [
    "# Carrega os dados\n",
    "# As primeiras duas colunas contém o resultados dos exames e a terceira coluna\n",
    "# contém o resultado da seleção.\n",
    "data = np.loadtxt(os.path.join('Data', 'tar2data1.txt'), delimiter=',')\n",
    "X, y = data[:, 0:2], data[:, 2]"
   ]
  },
  {
   "cell_type": "markdown",
   "metadata": {},
   "source": [
    "### 1.1 Visualizando os dados\n",
    "\n",
    "Antes de implementar qualquer algoritmo de aprendizado, é importante visualizar o conjunto de dados se possível. Mostraremos os dados em uma figura bidimensional evocando a função `plotData`. Você irá completar o código de `plotData` de modo que os eixos sejam o resultado dos dois exames, e o resultado da seleção seja apresentado com símbolos diferentes.\n",
    "\n",
    "Para ajudar na sua familiarização com a manipulação de dados e suas visualizações, a função `plotData` está apenas parcialmente implementada de modo que você deva tentar completá-la. Como esta parte da tarefa não é obrigatória, as linhas de código que completam o código estão fornecidas abaixo. Se você escolher copiar o exemplo, certifique-se de entender todos os comandos e operações consultando a documentação do `matplotlib` e do `numpy`.\n",
    "\n",
    "```python\n",
    "# Encontrando os índices dos rótulos positivos e negativos\n",
    "pos = y == 1\n",
    "neg = y == 0\n",
    "\n",
    "# Visualizando o dado\n",
    "pyplot.plot(X[pos, 0], X[pos, 1], 'kD', mfc='lightblue', ms=8, mec='b')\n",
    "pyplot.plot(X[neg, 0], X[neg, 1], 'ko', mfc='pink', ms=8, mec='r', mew=1)\n",
    "```"
   ]
  },
  {
   "cell_type": "code",
   "execution_count": 4,
   "metadata": {},
   "outputs": [],
   "source": [
    "def plotData(X, y):\n",
    "    \"\"\"\n",
    "    Imprime o conjunto de dados X e y em uma figura. Imprime as \n",
    "    amostras positivas com diamantes azuis e as negativas com círculos vermelhos.\n",
    "    \n",
    "    Parâmetros\n",
    "    ----------\n",
    "    X : tipo_array\n",
    "        Uma matriz mx2 representando o conjunto de dados. \n",
    "    \n",
    "    y : tipo_array\n",
    "        Rótulos do conjunto de dados. Um verto de tamanho (m, ).\n",
    "    \n",
    "    Instruções\n",
    "    ----------\n",
    "    Imprima as amostras positivas e negativas em uma figura 2D usando \n",
    "    a opção 'kD' para amostras positivas e 'ko' para exemplos positivos.\n",
    "    \"\"\"\n",
    "    # Criando a figura\n",
    "    fig = pyplot.figure()\n",
    "    \n",
    "    # Encontrando os índices dos rótulos positivos e negativos\n",
    "    pos = y == 1\n",
    "    neg = y == 0\n",
    "\n",
    "# Visualizando o dado\n",
    "    pyplot.plot(X[pos, 0], X[pos, 1], 'kD', mfc='lightblue', ms=8, mec='b')\n",
    "    pyplot.plot(X[neg, 0], X[neg, 1], 'ko', mfc='pink', ms=8, mec='r', mew=1)\n",
    "    \n",
    "    return fig"
   ]
  },
  {
   "cell_type": "markdown",
   "metadata": {},
   "source": [
    "Agora, chamamos a função para visualizar o dado carregado"
   ]
  },
  {
   "cell_type": "code",
   "execution_count": 5,
   "metadata": {},
   "outputs": [
    {
     "data": {
      "image/png": "[encoded data removed]",
      "text/plain": [
       "<Figure size 640x480 with 1 Axes>"
      ]
     },
     "metadata": {},
     "output_type": "display_data"
    }
   ],
   "source": [
    "plotData(X, y)\n",
    "# add axes labels\n",
    "pyplot.xlabel('Nota exame 1')\n",
    "pyplot.ylabel('Nota exame 2')\n",
    "pyplot.legend(['Aceito', 'Não aceito'])\n",
    "pass"
   ]
  },
  {
   "cell_type": "markdown",
   "metadata": {},
   "source": [
    "<a id=\"section1\"></a>\n",
    "### 1.2 Implementação\n",
    "\n",
    "#### 1.2.1 Exercício de aquecimento: função sigmóide\n",
    "\n",
    "Antes de começarmos de fato com a função custo, lembre-se de que na regressão logística, a hipótese é definida como:\n",
    "\n",
    "$$ h\\left(\\Theta,x\\right) = g\\left(\\Theta^T x\\right),$$\n",
    "\n",
    "onde $g$ é a função sigmóide dada por:\n",
    "\n",
    "$$g(z) = \\frac{1}{1+e^{-z}}.$$\n",
    "\n",
    "Seu primeiro passo é a implementação da função `sigmoid` para que você possa chamá-la no resto de seu código. Quando terminada a implementação, teste-a em alguns valores de `sigmoid(x)` em uma nova célula. Para valores grandes de $x$, a função deve retornar valores próximos de 1, enquanto que para valores negativos grandes, a sigmóide deve retornar valores próximos de 0. Para $x=0$, a função sigmóide deve ser exatamente igual à 0,5. Seu código deve funcionar tanto para vetores quanto para matrizes. **Quando aplicada em uma matriz, a função deve retornar uma matriz de mesma dimensão, onde cada elemento é o valor da sigmóide do respectivo elemento da matriz original.**\n",
    "<a id=\"sigmoid\"></a>"
   ]
  },
  {
   "cell_type": "code",
   "execution_count": 6,
   "metadata": {},
   "outputs": [],
   "source": [
    "def sigmoid(z):\n",
    "    \"\"\"\n",
    "    Calcula a função sigmóide de uma dada entrada z.\n",
    "    \n",
    "    Parâmetros\n",
    "    ----------\n",
    "    z : tipo_array\n",
    "        Entrada da função sigmóide. Este pode ser um número, um vetor ou mesmo \n",
    "        uma matriz bidimensional.\n",
    "    \n",
    "    Saída\n",
    "    -----\n",
    "    g : tipo_array\n",
    "        valor calculado da função sigmóide. g possui a mesma forma de z, uma vez\n",
    "        que a sigmóide é calculada elemento por elemento.\n",
    "        \n",
    "    Instruções\n",
    "    ----------\n",
    "    Calcule o valor da função sigmóide para a entrada z (z pode ser uma matriz, um\n",
    "    vetor ou mesmo um escalar).\n",
    "    \"\"\"\n",
    "    # converta a entrada em um tipo array do numpy\n",
    "    z = np.array(z)\n",
    "     \n",
    "    g = np.zeros(z.shape)\n",
    "\n",
    "    return 1/(1+np.exp((-1)*z))"
   ]
  },
  {
   "cell_type": "markdown",
   "metadata": {},
   "source": [
    "A próxima célula calcula o valor da sigmóide em `z=0`. Você deve receber o valor de 0.5 como saída. Tente valores diferentes de `z` e verifique sua implementação."
   ]
  },
  {
   "cell_type": "code",
   "execution_count": 8,
   "metadata": {},
   "outputs": [
    {
     "name": "stdout",
     "output_type": "stream",
     "text": [
      "g( 0 ) =  0.5\n"
     ]
    }
   ],
   "source": [
    "# Teste da implementação da função sigmóide\n",
    "z = 0\n",
    "g = sigmoid(z)\n",
    "\n",
    "print('g(', z, ') = ', g)"
   ]
  },
  {
   "cell_type": "markdown",
   "metadata": {},
   "source": [
    "<a id=\"section2\"></a>\n",
    "#### 1.2.2 Função custo e seu gradiente\n",
    "\n",
    "Agora você implementará a função custo e seu gradiente para uma regressão logística. Antes de seguir para a função custo, adicionamos o termo de interceptação à X."
   ]
  },
  {
   "cell_type": "code",
   "execution_count": 10,
   "metadata": {},
   "outputs": [],
   "source": [
    "# Configura a matriz X apropriadamente e adicione os termos de interceptação\n",
    "\n",
    "# Aqui m é o número de amostras de treino e n o número de features de cada amostra\n",
    "m, n = X.shape\n",
    "\n",
    "# Adicione o termo de interceptação\n",
    "X = np.concatenate([np.ones((m, 1)), X], axis=1)"
   ]
  },
  {
   "cell_type": "markdown",
   "metadata": {},
   "source": [
    "Agora, complete o código da função `costFunction` e retorne seu valor além do gradiente da mesma. Lembre-se que a função custo na regressão logística é dada por\n",
    "\n",
    "$$ J(\\Theta) = \\frac{1}{m} \\sum_{i=1}^{m} \\left[ -y^{(i)} \\log\\left(h\\left(\\Theta,x^{(i)}\\right) \\right) - \\left( 1 - y^{(i)}\\right) \\log \\left( 1 - h\\left(\\Theta,x^{(i)} \\right) \\right) \\right],$$\n",
    "\n",
    "e que seu gradiente é um vetor com a mesma dimensão do vetor $\\Theta$, onde o $j$-ésimo elemento (para $j = 0, 1, \\cdots , n$) é dado pela seguinte expressão:\n",
    "\n",
    "$$ \\frac{\\partial J\\left(\\Theta\\right)}{\\partial \\theta_j} = \\frac{1}{m} \\sum_{i=1}^m \\left( h\\left(\\Theta , x^{(i)} \\right) - y^{(i)} \\right) x_j^{(i)} .$$\n",
    "\n",
    "Note que por mais que a expressão para o gradiente pareça idêntico ao da regressão linear, ela é diferente, visto que as regressões linear e logística possuem definições diferentes de $h\\left(\\Theta,x\\right)$.\n",
    "<a id=\"costFunction\"></a>"
   ]
  },
  {
   "cell_type": "code",
   "execution_count": 15,
   "metadata": {},
   "outputs": [],
   "source": [
    "def costFunction(theta, X, y):\n",
    "    \"\"\"\n",
    "    Calcule o custo o gradiente para a regressão logística.\n",
    "    \n",
    "    Parâmetros\n",
    "    ----------\n",
    "    theta : tipo_array\n",
    "        Parâmetros para a regressão logística. Um vetor na forma (n+1, ).\n",
    "        of shape (n+1, ).\n",
    "    \n",
    "    X : tipo_array\n",
    "        Conjunto de treino na forma (m X n+1) onde m é o número de\n",
    "        amostras de treino e n o número de features. Assumimos que \n",
    "        os termos de interceptação já foram adicionados.\n",
    "    \n",
    "    y : tipo_array\n",
    "        Rótulos de entrada. Um vetor na forma (m, ).\n",
    "    \n",
    "    Returns\n",
    "    -------\n",
    "    J : float\n",
    "        Valor calculado da função custo. \n",
    "    \n",
    "    grad : tipo_array\n",
    "        Um vetor de forma (n+1, ) contendo o gradiente do custo com\n",
    "        respeito à theta.\n",
    "        \n",
    "    Instruções\n",
    "    ----------\n",
    "    Calcule o custo associado a um theta particular. Você deve atribuir à\n",
    "    J o valor do custo. Calcule as derivadas parciais do custo com respeito\n",
    "    a cada theta_j e atribua seus valores à quantidade grad.\n",
    "    \"\"\"\n",
    "    # Inicializa quantidades úteis\n",
    "    m = y.size  # Número de amostras de treino\n",
    "\n",
    "    grad = np.zeros(theta.shape)\n",
    "\n",
    "    g = sigmoid(np.dot(X,theta)) # Função sigmoide\n",
    "    J = np.sum(np.dot((-1)*y,np.log(g)) - np.dot((1-y),np.log(1-g)))/m # Função custo\n",
    "    grad = np.dot(g-y,X)/m # Gradiente # Soma implícita\n",
    "\n",
    "    return J, grad"
   ]
  },
  {
   "cell_type": "markdown",
   "metadata": {},
   "source": [
    "Uma vez que você tenha terminado a sua implementação da `costFunction`, teste sua implementação com dois conjuntos diferentes de $\\Theta$ na próxima célula."
   ]
  },
  {
   "cell_type": "code",
   "execution_count": 16,
   "metadata": {},
   "outputs": [
    {
     "name": "stdout",
     "output_type": "stream",
     "text": [
      "Custo para iniciais de theta (zeros): 0.693147\n",
      "Valor experado para a função custo (aprox): 0.693\n",
      "\n",
      "Gradiente para iniciais de theta (zeros):\n",
      "\t[-0.100000, -12.009217, -11.262842]\n",
      "Valor experado para os gradientes (aprox):\n",
      "\t[-0.1000, -12.0092, -11.2628]\n",
      "\n",
      "Custo para theta de teste: 0.218330\n",
      "Valor experado para a função custo (aprox): 0.218\n",
      "\n",
      "Gradiente para theta de teste:\n",
      "\t[0.042903, 2.566234, 2.646797]\n",
      "Valor experado para os gradientes (aprox):\n",
      "\t[0.043, 2.566, 2.647]\n"
     ]
    }
   ],
   "source": [
    "# Inicializa os parâmetros de ajuste\n",
    "initial_theta = np.zeros(n+1)\n",
    "\n",
    "cost, grad = costFunction(initial_theta, X, y)\n",
    "\n",
    "print('Custo para iniciais de theta (zeros): {:.6f}'.format(cost))\n",
    "print('Valor experado para a função custo (aprox): 0.693\\n')\n",
    "\n",
    "print('Gradiente para iniciais de theta (zeros):')\n",
    "print('\\t[{:.6f}, {:.6f}, {:.6f}]'.format(*grad))\n",
    "print('Valor experado para os gradientes (aprox):\\n\\t[-0.1000, -12.0092, -11.2628]\\n')\n",
    "\n",
    "# Calcula e verifica os valores do custo e do gradiente\n",
    "# para valores não-nulos de theta\n",
    "test_theta = np.array([-24, 0.2, 0.2])\n",
    "cost, grad = costFunction(test_theta, X, y)\n",
    "\n",
    "print('Custo para theta de teste: {:.6f}'.format(cost))\n",
    "print('Valor experado para a função custo (aprox): 0.218\\n')\n",
    "\n",
    "print('Gradiente para theta de teste:')\n",
    "print('\\t[{:.6f}, {:.6f}, {:.6f}]'.format(*grad))\n",
    "print('Valor experado para os gradientes (aprox):\\n\\t[0.043, 2.566, 2.647]')"
   ]
  },
  {
   "cell_type": "markdown",
   "metadata": {},
   "source": [
    "#### 1.2.3 Aprendendo os parâmetros $\\Theta$ utilizando `scipy.optimize`\n",
    "\n",
    "Nas tarefas anteriores, você encontrou os valores ótimos dos parâmentros de uma regressão linear ao implementar um gradiente descendente. Você implementou a função custo e seu gradiente, depois executou passos de um gradiente descendente. Agora, ao invés de adotar esse procedimento, você irá usar o [módulo `scipy.optimize`](https://docs.scipy.org/doc/scipy/reference/optimize.html). SciPy é uma biblioteca do `python` para cálculos numéricos. Ela oferece um módulo de otimização para encontrar raízes e mínimos de funções. Para o caso do `scipy 1.0`, a função `scipy.optimize.minimize` é o método a ser utilizado em problemas de otimização (com ou sem vínculos).\n",
    "\n",
    "Para a regressão logística, queremos otimizar a função custo $J\\left(\\Theta\\right)$ com os parâmetros $\\Theta$. De forma prática, você usará `optimize.minimize` para encontrar os melhores parâmentros $\\Theta$ para a função custo da regressão logística dado um conjunto de parâmetros fixo (valores de X e y). Você passará à função `optimize.minimize` os seguintes argumentos de entrada:\n",
    "- `costFunction`: Uma função custo que, dado um conjunto de treino e um $\\Theta$ particular, calcula a função custo e seu gradiente para uma regressão logística com respeito à $\\Theta$ para o cinjunto de dados (X, y). É importante notar que passamos apenas o nome da função sem parênteses. Isso significa que estamos passando apenas uma referência dessa função, e não calculando o valor resultante dessa função.\n",
    "- `initial_theta`: O conjunto inicial de $\\Theta$ que pretendemos otimizar.\n",
    "- `(X, y)`: Estes são os argumentos adicionais da função `costFunction`.\n",
    "- `jac`: Indica que a função custo fornecida já retorna o Jacobiano (gradiente) junto com o valor do custo. (True)\n",
    "- `method`: Método de otimização utilizado. (TNC -- método de Newton truncado)\n",
    "- `options`: Opções adicionais que podem ser específicas de um método de otimização. No que segue, apenas dizemos ao algoritmo que execute um máximo número de iterações antes de terminar.\n",
    "\n",
    "Se você completou a função `costFunction` corretamente, `optimize.minimize` convergirá aos parâmentros corretos e retornará os valores finais do custo e $\\Theta$ como um objeto de uma classe. Note que ao usarmos `optimize.minimize`, você não terá que escrever nenhum loop, ou mesmo determinar uma taxa de aprendizado. Tudo isso é feito pela função `optimize.minimize`: Você apenas precisa fornecer uma função que calcule o custo e seu gradiente.\n",
    "\n",
    "No que segue, já implementamos o código para executar `optimize.minimize` com os argumentos corretos."
   ]
  },
  {
   "cell_type": "code",
   "execution_count": 17,
   "metadata": {},
   "outputs": [
    {
     "name": "stdout",
     "output_type": "stream",
     "text": [
      "Custo encontrado por optimize.minimize: 0.203498\n",
      "Custo esperado (aprox): 0.203\n",
      "\n",
      "theta:\n",
      "\t[-25.161319, 0.206232, 0.201471]\n",
      "Theta esperado (aprox):\n",
      "\t[-25.161, 0.206, 0.201]\n"
     ]
    },
    {
     "name": "stderr",
     "output_type": "stream",
     "text": [
      "C:\\Users\\danie\\AppData\\Local\\Temp\\ipykernel_7944\\1370012265.py:8: DeprecationWarning: 'maxiter' has been deprecated in favor of 'maxfun' and will be removed in SciPy 1.11.0.\n",
      "  res = optimize.minimize(costFunction,\n"
     ]
    }
   ],
   "source": [
    "# Configura o argumento options para a função optimize.minimize\n",
    "options= {'maxiter': 400}\n",
    "\n",
    "# Consulte a documentação de optimize.minimize do scipy para a descrição sobre\n",
    "# o uso de diferentes parâmetros.\n",
    "# A função retorna um objeto `OptimizeResult`.\n",
    "# Aqui utilizamos o algoritmo de Newton truncado para o procedimento de otimização\n",
    "res = optimize.minimize(costFunction,\n",
    "                        initial_theta,\n",
    "                        (X, y),\n",
    "                        jac=True,\n",
    "                        method='TNC',\n",
    "                        options=options)\n",
    "\n",
    "# A propriedade fun do objeto `OptimizeResult` retorna \n",
    "# o valor de costFunction para os valores de theta otimizados\n",
    "cost = res.fun\n",
    "\n",
    "# Os valores otimizados de theta estão na propriedade x\n",
    "theta = res.x\n",
    "\n",
    "# Imprima theta na tela\n",
    "print('Custo encontrado por optimize.minimize: {:.6f}'.format(cost))\n",
    "print('Custo esperado (aprox): 0.203\\n');\n",
    "\n",
    "print('theta:')\n",
    "print('\\t[{:.6f}, {:.6f}, {:.6f}]'.format(*theta))\n",
    "print('Theta esperado (aprox):\\n\\t[-25.161, 0.206, 0.201]')"
   ]
  },
  {
   "cell_type": "markdown",
   "metadata": {},
   "source": [
    "Um vez `optimize.minimize` tenha finalizado sua execução, usaremos os valores finais de $\\Theta$ para visualizar a linha divisória de decisão sobre o conjunto de treino, como o apresentado na figura abaixo. \n",
    "\n",
    "![](Figures/decision_boundary1.png)\n",
    "\n",
    "Para fazê-lo, já escrevemos a função `plotDecisionBoundary` para visualizar a linha divisória de decisão sobre o conjunto de treino. Não é necessário escrever nenhum código para visualizar a linha divisória, mas recomendamos fortemente que você estude o código da `plotDecisionBoundary` para ver como tais contornos usam os valores de $ \\Theta$. Você pode encontrar essa função no arquivo `utils.py` que acompanha essa tarefa."
   ]
  },
  {
   "cell_type": "code",
   "execution_count": 18,
   "metadata": {},
   "outputs": [
    {
     "data": {
      "image/png": "[encoded data removed]",
      "text/plain": [
       "<Figure size 640x480 with 1 Axes>"
      ]
     },
     "metadata": {},
     "output_type": "display_data"
    }
   ],
   "source": [
    "# Imprime o contorno\n",
    "utils.plotDecisionBoundary(plotData, theta, X, y)"
   ]
  },
  {
   "cell_type": "markdown",
   "metadata": {},
   "source": [
    "<a id=\"section4\"></a>\n",
    "#### 1.2.4 Executando a regressão logística\n",
    "\n",
    "Após aprender os parâmetros, você pode utilizar o modelo para prever se um candidato em particular será adimitido. Esse candidato possui nota 45 para o Exame 1 e 85 para o Exame 2. Você deve verificar uma probabilidade de admissão de 0.776. Outra forma de averiguar a qualidade dos parâmetros $\\Theta$ aprendidos é verificar a performance do nosso modelo no conjunto de treino. Neste parte da tarefa, sua tarefa é completar a função `predict`. A função `predict` retorna previsões \"1\" e \"0\" dado um conjunto de dados e um vetor $\\Theta$.\n",
    "<a id=\"predict\"></a>"
   ]
  },
  {
   "cell_type": "code",
   "execution_count": 19,
   "metadata": {},
   "outputs": [],
   "source": [
    "def predict(theta, X):\n",
    "    \"\"\"\n",
    "    Preveja se o rótulo é 0 ou 1 utilizando o modelo aprendido pelo\n",
    "    ajuste logístico. Calcula as previsões para X utilizando o limiar\n",
    "    de 0.5, ou seja, se a sigmoid(theta.T*X) >= 0.5, preveja 1).\n",
    "    \n",
    "    Parameters\n",
    "    ----------\n",
    "    theta : tipo_array\n",
    "        Parâmetros da regressão logística. Um vetor na forma (n+1, ).\n",
    "    \n",
    "    X : tipo_array\n",
    "        Dados utilizados para fazer as previsões. As linhas são as amostras\n",
    "        sobre as quais as previsões serão feitas e as colunas os features.\n",
    "\n",
    "    Returns\n",
    "    -------\n",
    "    p : tipo_array\n",
    "        Predictions and 0 or 1 for each row in X. \n",
    "    \n",
    "    Instruções\n",
    "    ----------\n",
    "    Complete o seguinte código para fazer previsões usando os parâmetros\n",
    "    aprendidos pela regressão logística. Você deve atribuir ao vetor p\n",
    "    um vetor de 0's e 1's\n",
    "    \"\"\"\n",
    "    m = X.shape[0] # Número de amostras de treino\n",
    "\n",
    "    p = np.zeros(m) # Inicialização \n",
    "    \n",
    "    previsao = lambda previsao: 1 if previsao>=0.5 else 0 # Atribuição\n",
    "    previsao_vetorizada = np.vectorize(previsao) # Vetorização \n",
    "    p = previsao_vetorizada(sigmoid(np.dot(X,theta)))\n",
    "    \n",
    "    return p"
   ]
  },
  {
   "cell_type": "markdown",
   "metadata": {},
   "source": [
    "Após completar o código de `predict`, continuaremos calculando a percentagem de acertos no conjunto de treino do seu classificador calculando o número de exemplos classificados corretamente."
   ]
  },
  {
   "cell_type": "code",
   "execution_count": 20,
   "metadata": {},
   "outputs": [
    {
     "name": "stdout",
     "output_type": "stream",
     "text": [
      "Para um estudantes com notas 45 e 85,prevemos uma probabilidade de admissão de 0.776291\n",
      "Valor esperado: 0.775 +/- 0.002\n",
      "\n",
      "Acurácia de treino: 89.00 %\n",
      "Acurácia esperada (aprox): 89.00 %\n"
     ]
    }
   ],
   "source": [
    "#  Preveja a probabilidade de um estudante com nota 45 no exame 1\n",
    "#  e nota 85 no exame 2\n",
    "prob = sigmoid(np.dot([1, 45, 85], theta))\n",
    "print('Para um estudantes com notas 45 e 85,'\n",
    "      'prevemos uma probabilidade de admissão de {:.6f}'.format(prob))\n",
    "print('Valor esperado: 0.775 +/- 0.002\\n')\n",
    "\n",
    "# Calcule o percentual de acerto no conjunto de treino\n",
    "p = predict(theta, X)\n",
    "print('Acurácia de treino: {:.2f} %'.format(np.mean(p == y) * 100))\n",
    "print('Acurácia esperada (aprox): 89.00 %')"
   ]
  },
  {
   "cell_type": "markdown",
   "metadata": {},
   "source": [
    "## 2 Regressão logística regularizada\n",
    "\n",
    "Nesta parte da tarefa, você irá implementar uma regressão logística regularizada para prever se microchips de uma fábrica passam em um certificado de qualidade. Durante o exame de qualidade, cada microchip é submetido a vários testes para verificar seu funcionamento correto em determinadas condições.\n",
    "\n",
    "Suponha que você é o gerente da fábrica e deve testar os resultados de alguns microchips em dois testes diferentes. Destes dois testes, você deseja determinar se os microchips serão aceitos ou rejeitados. Então você decide utilizar uma regressão logística como auxílio na decisão. Você possui o conjunto de dados com os resultados de testes passados de outros microchips, com os quais você construirá um modelo de regressão logística.\n",
    "\n",
    "Primeiramente, carregaremos os dados de um arquivo CSV:"
   ]
  },
  {
   "cell_type": "code",
   "execution_count": 21,
   "metadata": {},
   "outputs": [],
   "source": [
    "# Carrega os dados\n",
    "# As primeiras duas colunas contém o resultados dos exames e a terceira coluna\n",
    "# contém o resultado da seleção.\n",
    "data = np.loadtxt(os.path.join('Data', 'tar2data2.txt'), delimiter=',')\n",
    "X = data[:, :2]\n",
    "y = data[:, 2]"
   ]
  },
  {
   "cell_type": "markdown",
   "metadata": {},
   "source": [
    "### 2.1 Visualize os dados\n",
    "\n",
    "De forma similar com partes desta tarefa, `plotData` é usado para visualizar dos dados. Aqui, cada eixo contém os resultados dos testes, onde exemplos positivos (y = 1, aceitos) e (y = 0, rejeitados) são apresentados com símbolos diferentes."
   ]
  },
  {
   "cell_type": "code",
   "execution_count": 22,
   "metadata": {},
   "outputs": [
    {
     "data": {
      "image/png": "[encoded data removed]",
      "text/plain": [
       "<Figure size 640x480 with 1 Axes>"
      ]
     },
     "metadata": {},
     "output_type": "display_data"
    }
   ],
   "source": [
    "plotData(X, y)\n",
    "# Labels e Legenda\n",
    "pyplot.xlabel('Teste de Microchip 1')\n",
    "pyplot.ylabel('Teste de Microchip 2')\n",
    "\n",
    "pyplot.legend(['y = 1', 'y = 0'], loc='upper right')\n",
    "pass"
   ]
  },
  {
   "cell_type": "markdown",
   "metadata": {},
   "source": [
    "A figura acima nos mostra que nosso conjunto de dados não pode ser separado em amostras positivos e negativos por uma linha reta. Portanto, um aplicaçào direta da regressão logística não apresentará uma boa performance neste conjunto de dados.\n",
    "\n",
    "### 2.2 Mapeamento de features\n",
    "\n",
    "Uma forma de ajustar o modelo melhor ao dado é criar mais features para cada ponto de dado. Na função `mapFeature` definida no arquivo `utils.py`, mapeamos os features em termos polinomiais de $x_1$ e $x_2$ até a potência de grau seis, ou seja,\n",
    "\n",
    "$$ \\text{mapFeature}(x) = \\begin{bmatrix} 1 & x_1 & x_2 & x_1^2 & x_1 x_2 & x_2^2 & x_1^3 & \\dots & x_1 x_2^5 & x_2^6 \\end{bmatrix}^T. $$\n",
    "\n",
    "Como resultado desse mapeamento, nosso vetor de dois features (o resultado dos testes de qualidade) é transformado em um vetor de dimensão 8. Um classificador logístico treinado em vetores de features de dimensões superiores possuirão uma fronteira de decisão mais complexa que será não linear quando apresentado em uma visualização bidimimensional.\n",
    "\n",
    "Se por um lado o mapeamento de features nos permite construir um classificador mais expressivo, ele também é mais suscetível ao <i>overfitting</i>. Nas próximas partes desta tarefa, você implementará uma regressão logística regularizada para ajustar o conjunto de dados, além de verificar como a regularização pode combater o problema de overfitting."
   ]
  },
  {
   "cell_type": "code",
   "execution_count": 23,
   "metadata": {},
   "outputs": [],
   "source": [
    "# Note que mapFeature já adiciona a coluna com os termos de interceptação\n",
    "X = utils.mapFeature(X[:, 0], X[:, 1])"
   ]
  },
  {
   "cell_type": "markdown",
   "metadata": {},
   "source": [
    "<a id=\"section5\"></a>\n",
    "### 2.3 Função custo e seu gradiente regularizados\n",
    "\n",
    "Agora, você implementará o custo para a função custo e seu gradiente para uma regressão logística regularizada. Complete o código `costFunctionReg` abaixo para que ele retorne o custo e seu gradiente.\n",
    "\n",
    "Lembre-se que a função custo para a regressão logística é dada por\n",
    "\n",
    "$$ J\\left(\\Theta\\right) = \\frac{1}{m} \\sum_{i=1}^m \\left[ -y^{(i)}\\log \\left( h\\left(\\Theta,x^{(i)} \\right) \\right) - \\left( 1 - y^{(i)} \\right) \\log \\left( 1 - h\\left(\\Theta,x^{(i)} \\right) \\right) \\right] + \\frac{\\lambda}{2m} \\sum_{j=1}^n \\theta_j^2 $$\n",
    "\n",
    "Note que você não deve regularizar o viés $\\theta_0$. O gradiente da função custo é um vetor cujo $j$-ésimo elemento é definido por:\n",
    "\n",
    "$$ \\frac{\\partial J\\left(\\Theta\\right)}{\\partial \\theta_0} = \\frac{1}{m} \\sum_{i=1}^m \\left( h\\left(\\Theta,x^{(i)} \\right) - y^{(i)} \\right) x_j^{(i)} \\qquad \\text{for } j =0 $$\n",
    "\n",
    "$$ \\frac{\\partial J\\left(\\Theta\\right)}{\\partial \\theta_j} = \\left( \\frac{1}{m} \\sum_{i=1}^m \\left( h\\left(\\Theta,x^{(i)} \\right) - y^{(i)} \\right) x_j^{(i)} \\right) + \\frac{\\lambda}{m}\\theta_j \\qquad \\text{for } j \\ge 1 $$\n",
    "<a id=\"costFunctionReg\"></a>"
   ]
  },
  {
   "cell_type": "code",
   "execution_count": 24,
   "metadata": {},
   "outputs": [],
   "source": [
    "def costFunctionReg(theta, X, y, lambda_):\n",
    "    \"\"\"\n",
    "    Calcula o custo e seu gradiente para uma regressão logística com \n",
    "    regularização.\n",
    "    \n",
    "    Parâmetros\n",
    "    ----------\n",
    "    theta : tipo_array\n",
    "        Parâmetros da regressão logística. Um vetor na forma (n, ). n é o \n",
    "        número de features de cada amostra e o termo de viés. Se você mapeou\n",
    "        os features iniciais em features polinomiais, então n é o número de\n",
    "        features polinomiais.\n",
    "    \n",
    "    X : tipo_array\n",
    "        Conjunto de dados na forma (M x n). m ;e o número de amostras, e \n",
    "        n o número de features (após o mapping).\n",
    "    \n",
    "    y : tipo_array\n",
    "        Dado rotulado. Um vetor na forma (m, ).\n",
    "    \n",
    "    lambda_ : float\n",
    "        Parâmetro de regularização. \n",
    "    \n",
    "    Saída\n",
    "    -----\n",
    "    J : float\n",
    "        Valor calculado da função custo\n",
    "    \n",
    "    grad : tipo_array\n",
    "        Um vetor na forma (n, ) o qual é o gradiente da função custo\n",
    "        com respeito a theta, em um dado conjunto de valores de theta.\n",
    "    \n",
    "    Instruções\n",
    "    ----------\n",
    "    Calcule o custo `J` de um theta particular.Calcule as derivadas\n",
    "    parciais do custo com respeito\n",
    "    a cada theta_j e atribua seus valores à quantidade grad.\n",
    "    \"\"\"\n",
    "    # Inicializa velores úteis\n",
    "    m = y.size  # número de amostras de treino\n",
    "\n",
    "    # Você deve retornar as seguintes quantidades corretamente\n",
    "    J = 0\n",
    "    grad = np.zeros(theta.shape)\n",
    "\n",
    "    J,grad = costFunction(theta, X, y)\n",
    "    J += (lambda_/2/m)*np.sum(theta**2)\n",
    "    grad += (lambda_/m)*theta\n",
    "    \n",
    "    return J, grad"
   ]
  },
  {
   "cell_type": "markdown",
   "metadata": {},
   "source": [
    "Um vez que você tenha terminado com `costFunctionReg`, chamaremos a mesma na célula abaixo utilizando valores iniciais de $\\Theta$ (todos nulos), além de outro caso teste (todos iguais a 1)."
   ]
  },
  {
   "cell_type": "code",
   "execution_count": 25,
   "metadata": {},
   "outputs": [
    {
     "name": "stdout",
     "output_type": "stream",
     "text": [
      "Custo para theta inicial (zeros): 0.693147\n",
      "Valor esperado (aprox)       : 0.693\n",
      "\n",
      "Gradiente para theta inicial (zeros) - apenas os 5 primeiros:\n",
      "\t[0.008475, 0.018788, 0.000078, 0.050345, 0.011501]\n",
      "Gradientes esperados (aprox) - apenas os 5 primeiros:\n",
      "\t[0.0085, 0.0188, 0.0001, 0.0503, 0.0115]\n",
      "\n",
      "------------------------------\n",
      "\n",
      "Custo para theta de teste    : 3.206882\n",
      "Valor esperado (aprox): 3.16\n",
      "\n",
      "Gradiente para theta teste (todos 1) - apenas os 5 primeiros:\n",
      "\t[0.430791, 0.161352, 0.194796, 0.226863, 0.092186]\n",
      "Gradientes esperados (aprox) - apenas os 5 primeiros:\n",
      "\t[0.3460, 0.1614, 0.1948, 0.2269, 0.0922]\n"
     ]
    }
   ],
   "source": [
    "# Inicializa parâmetros de ajuste\n",
    "initial_theta = np.zeros(X.shape[1])\n",
    "\n",
    "# Atribui o parâmetrode regularização lambda_ = 1\n",
    "# NÃO USE `lambda` como uma variável em python\n",
    "# ela é uma palavra reservado do python.\n",
    "lambda_ = 1\n",
    "\n",
    "# Calcula e imprime o custo e seu gradiente para um regressão logística\n",
    "cost, grad = costFunctionReg(initial_theta, X, y, lambda_)\n",
    "\n",
    "print('Custo para theta inicial (zeros): {:.6f}'.format(cost))\n",
    "print('Valor esperado (aprox)       : 0.693\\n')\n",
    "\n",
    "print('Gradiente para theta inicial (zeros) - apenas os 5 primeiros:')\n",
    "print('\\t[{:.6f}, {:.6f}, {:.6f}, {:.6f}, {:.6f}]'.format(*grad[:5]))\n",
    "print('Gradientes esperados (aprox) - apenas os 5 primeiros:')\n",
    "print('\\t[0.0085, 0.0188, 0.0001, 0.0503, 0.0115]\\n')\n",
    "\n",
    "\n",
    "# Calcula e imprime custo e seu gradiente\n",
    "# todos os theta iguais a 1 e lambda = 10\n",
    "test_theta = np.ones(X.shape[1])\n",
    "cost, grad = costFunctionReg(test_theta, X, y, 10)\n",
    "\n",
    "print('------------------------------\\n')\n",
    "print('Custo para theta de teste    : {:.6f}'.format(cost))\n",
    "print('Valor esperado (aprox): 3.16\\n')\n",
    "\n",
    "print('Gradiente para theta teste (todos 1) - apenas os 5 primeiros:')\n",
    "print('\\t[{:.6f}, {:.6f}, {:.6f}, {:.6f}, {:.6f}]'.format(*grad[:5]))\n",
    "print('Gradientes esperados (aprox) - apenas os 5 primeiros:')\n",
    "print('\\t[0.3460, 0.1614, 0.1948, 0.2269, 0.0922]')"
   ]
  }
 ],
 "metadata": {
  "kernelspec": {
   "display_name": "Python 3 (ipykernel)",
   "language": "python",
   "name": "python3"
  },
  "language_info": {
   "codemirror_mode": {
    "name": "ipython",
    "version": 3
   },
   "file_extension": ".py",
   "mimetype": "text/x-python",
   "name": "python",
   "nbconvert_exporter": "python",
   "pygments_lexer": "ipython3",
   "version": "3.9.13"
  }
 },
 "nbformat": 4,
 "nbformat_minor": 2
}
